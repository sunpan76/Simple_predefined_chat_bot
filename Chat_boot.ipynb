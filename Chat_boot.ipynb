{
 "cells": [
  {
   "cell_type": "code",
   "execution_count": 1,
   "metadata": {},
   "outputs": [
    {
     "data": {
      "text/plain": [
       "'Dallas weather is Overcast'"
      ]
     },
     "execution_count": 1,
     "metadata": {},
     "output_type": "execute_result"
    }
   ],
   "source": [
    "import requests\n",
    "from bs4 import BeautifulSoup\n",
    "from html.parser import HTMLParser\n",
    "import time\n",
    "\n",
    "page = requests.get('https://forecast.weather.gov/MapClick.php?lat=32.84707000000003&lon=-96.85194999999999#.XeYCnJNKg6j')\n",
    "soup = BeautifulSoup(page.content, 'html.parser')\n",
    "\n",
    "def current_temp():\n",
    "    temp=soup.find(class_='myforecast-current-sm').get_text()\n",
    "    temperature=int(temp[0])\n",
    "    return temperature\n",
    "\n",
    "\n",
    "def current_cond():\n",
    "    cond=soup.find(class_='myforecast-current').get_text()\n",
    "    return cond\n",
    "\n",
    "feel = current_cond()\n",
    "temp = current_temp()\n",
    "\n",
    "# Define a dictionary with the predefined responses\n",
    "\n",
    "responses = {\n",
    "    \"what's temp in Dallas?\" : \"Dallas temp is {0}\". format(temp),\n",
    "    \"what's today's weather?\": \"Dallas weather is {0}\".format(feel)\n",
    "    \n",
    "}\n",
    "def respond(message):\n",
    "    if message in responses:\n",
    "        return responses[message]\n",
    "    \n",
    "    \n",
    "respond(\"what's today's weather?\")"
   ]
  },
  {
   "cell_type": "code",
   "execution_count": null,
   "metadata": {},
   "outputs": [],
   "source": []
  }
 ],
 "metadata": {
  "kernelspec": {
   "display_name": "Python 3",
   "language": "python",
   "name": "python3"
  },
  "language_info": {
   "codemirror_mode": {
    "name": "ipython",
    "version": 3
   },
   "file_extension": ".py",
   "mimetype": "text/x-python",
   "name": "python",
   "nbconvert_exporter": "python",
   "pygments_lexer": "ipython3",
   "version": "3.7.4"
  }
 },
 "nbformat": 4,
 "nbformat_minor": 2
}
